{\rtf1\ansi\ansicpg1252\cocoartf2822
\cocoatextscaling0\cocoaplatform0{\fonttbl\f0\fswiss\fcharset0 Helvetica;}
{\colortbl;\red255\green255\blue255;}
{\*\expandedcolortbl;;}
\margl1440\margr1440\vieww11520\viewh8400\viewkind0
\pard\tx720\tx1440\tx2160\tx2880\tx3600\tx4320\tx5040\tx5760\tx6480\tx7200\tx7920\tx8640\pardirnatural\partightenfactor0

\f0\fs24 \cf0 # 05-consciousness-ports.ipynb implementation\
class ConsciousnessPort:\
    """Hexagonal port interface for consciousness modules"""\
    \
    def __init__(self, port_id, port_type='bidirectional'):\
        self.port_id = port_id\
        self.port_type = port_type\
        self.connections = []\
        self.data_buffer = []\
    \
    def connect(self, other_port):\
        """Establishes hexagonal connection between ports"""\
        if len(self.connections) < 6:  # Hexagonal limit\
            self.connections.append(other_port)\
            other_port.connections.append(self)\
            return True\
        return False\
    \
    def transmit(self, data):\
        """Sends consciousness signals through hexagonal network"""\
        for connected_port in self.connections:\
            # Hexagonal transmission pattern\
            signal_strength = 1.0 / np.sqrt(len(self.connections))\
            connected_port.receive(data, signal_strength)\
    \
    def receive(self, data, strength):\
        """Receives and integrates consciousness signals"""\
        self.data_buffer.append((data, strength))\
\
class HexagonalConsciousnessModule:\
    """Modular consciousness component with hexagonal interfaces"""\
    \
    def __init__(self, module_name, module_type='processing'):\
        self.module_name = module_name\
        self.module_type = module_type\
        self.ports = self._create_hexagonal_ports()\
        self.internal_state = np.zeros(6)  # Hexagonal state vector\
    \
    def _create_hexagonal_ports(self):\
        """Creates 6 ports for hexagonal connectivity"""\
        port_names = ['north', 'northeast', 'southeast', \
                     'south', 'southwest', 'northwest']\
        return \{name: ConsciousnessPort(f"\{self.module_name\}_\{name\}") \
                for name in port_names\}\
    \
    def process(self):\
        """Processes consciousness signals with hexagonal integration"""\
        # Collect inputs from all ports\
        inputs = []\
        for port in self.ports.values():\
            if port.data_buffer:\
                # Weighted integration of signals\
                weighted_sum = sum(data * strength \
                                 for data, strength in port.data_buffer)\
                inputs.append(weighted_sum)\
                port.data_buffer.clear()\
        \
        if inputs:\
            # Hexagonal processing rule\
            self.internal_state = np.tanh(np.mean(inputs, axis=0))\
            \
            # Broadcast processed state through all ports\
            for port in self.ports.values():\
                port.transmit(self.internal_state)\
    \
    def visualize_module(self):\
        """Visualizes the consciousness module with ports"""\
        fig, ax = plt.subplots(figsize=(8, 8))\
        \
        # Draw hexagonal module\
        hexagon = RegularPolygon((0, 0), 6, radius=2,\
                               facecolor='lightblue', \
                               edgecolor='black', linewidth=2)\
        ax.add_patch(hexagon)\
        \
        # Draw ports\
        angles = np.linspace(0, 2*np.pi, 7)[:-1]\
        port_positions = [(2.5*np.cos(a), 2.5*np.sin(a)) for a in angles]\
        \
        for i, (name, port) in enumerate(self.ports.items()):\
            x, y = port_positions[i]\
            \
            # Port visualization\
            port_circle = plt.Circle((x, y), 0.3, \
                                   color='green' if port.connections else 'red',\
                                   alpha=0.7)\
            ax.add_patch(port_circle)\
            \
            # Port label\
            ax.text(x*1.3, y*1.3, name, ha='center', va='center')\
        \
        # Module name\
        ax.text(0, 0, self.module_name, ha='center', va='center',\
               fontsize=14, weight='bold')\
        \
        ax.set_xlim(-4, 4)\
        ax.set_ylim(-4, 4)\
        ax.set_aspect('equal')\
        ax.axis('off')\
        ax.set_title(f"Consciousness Module: \{self.module_name\}", fontsize=16)\
        \
        return fig, ax\
\
# Example: Building a consciousness network\
def create_consciousness_network():\
    """Demonstrates emergent consciousness from hexagonal modules"""\
    # Create specialized modules\
    perception = HexagonalConsciousnessModule("Perception", "input")\
    attention = HexagonalConsciousnessModule("Attention", "filter")\
    memory = HexagonalConsciousnessModule("Memory", "storage")\
    integration = HexagonalConsciousnessModule("Integration", "processing")\
    \
    # Connect modules in hexagonal pattern\
    perception.ports['northeast'].connect(attention.ports['southwest'])\
    attention.ports['southeast'].connect(memory.ports['northwest'])\
    memory.ports['north'].connect(integration.ports['south'])\
    integration.ports['northwest'].connect(perception.ports['southeast'])\
    \
    return [perception, attention, memory, integration]}