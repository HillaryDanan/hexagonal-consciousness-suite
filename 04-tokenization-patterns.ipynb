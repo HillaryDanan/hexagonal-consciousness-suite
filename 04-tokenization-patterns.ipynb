{\rtf1\ansi\ansicpg1252\cocoartf2822
\cocoatextscaling0\cocoaplatform0{\fonttbl\f0\fswiss\fcharset0 Helvetica;}
{\colortbl;\red255\green255\blue255;}
{\*\expandedcolortbl;;}
\margl1440\margr1440\vieww11520\viewh8400\viewkind0
\pard\tx720\tx1440\tx2160\tx2880\tx3600\tx4320\tx5040\tx5760\tx6480\tx7200\tx7920\tx8640\pardirnatural\partightenfactor0

\f0\fs24 \cf0 # 04-tokenization-patterns.ipynb implementation\
class HexagonalTokenizer:\
    """Implements hexagonal chunking for information processing"""\
    \
    def __init__(self, hex_window_size=7):\
        self.hex_window_size = hex_window_size\
        self.token_hexagons = \{\}\
    \
    def hexagonal_tokenize(self, text, overlap=0.3):\
        """Tokenizes text using hexagonal sliding windows"""\
        words = text.split()\
        tokens = []\
        \
        # Create hexagonal chunks with natural overlap\
        stride = int(self.hex_window_size * (1 - overlap))\
        \
        for i in range(0, len(words), stride):\
            # Center token\
            center_idx = i + self.hex_window_size // 2\
            if center_idx >= len(words):\
                break\
                \
            # Get hexagonal neighborhood (6 surrounding positions)\
            hex_indices = self._get_hexagonal_indices(center_idx, len(words))\
            \
            token_group = \{\
                'center': words[center_idx] if center_idx < len(words) else None,\
                'context': [words[idx] for idx in hex_indices if idx < len(words)],\
                'position': i\
            \}\
            tokens.append(token_group)\
        \
        return tokens\
    \
    def _get_hexagonal_indices(self, center, max_len):\
        """Returns indices forming hexagonal pattern around center"""\
        # Hexagonal pattern in linear text\
        offsets = [-3, -2, -1, 1, 2, 3]  # Skip center (0)\
        indices = []\
        \
        for offset in offsets:\
            idx = center + offset\
            if 0 <= idx < max_len:\
                indices.append(idx)\
        \
        return indices\
    \
    def visualize_tokenization_comparison(self, text):\
        """Shows hexagonal vs traditional tokenization advantages"""\
        fig, (ax1, ax2) = plt.subplots(2, 1, figsize=(14, 10))\
        \
        # Traditional tokenization\
        ax1.set_title("Traditional Rectangular Tokenization", fontsize=14)\
        words = text.split()[:20]  # First 20 words for visualization\
        \
        for i in range(0, len(words), 5):\
            rect = plt.Rectangle((i, 0), 5, 1, \
                               fill=True, facecolor='lightcoral', \
                               edgecolor='black', alpha=0.5)\
            ax1.add_patch(rect)\
        \
        # Show edge effects\
        ax1.text(4.5, 0.5, '|', fontsize=20, color='red', weight='bold')\
        ax1.text(9.5, 0.5, '|', fontsize=20, color='red', weight='bold')\
        ax1.text(5, -0.5, 'Hard boundaries\\nlose context', \
                ha='center', color='red')\
        \
        # Hexagonal tokenization\
        ax2.set_title("Hexagonal Tokenization with Natural Overlap", fontsize=14)\
        \
        hex_tokens = self.hexagonal_tokenize(' '.join(words))\
        colors = plt.cm.viridis(np.linspace(0, 1, len(hex_tokens)))\
        \
        for i, token in enumerate(hex_tokens):\
            # Draw overlapping hexagonal regions\
            center_pos = token['position'] + self.hex_window_size // 2\
            \
            # Hexagon visualization\
            hexagon = RegularPolygon((center_pos, 0.5), 6, \
                                    radius=3, orientation=0,\
                                    facecolor=colors[i], alpha=0.3,\
                                    edgecolor='black')\
            ax2.add_patch(hexagon)\
        \
        ax2.text(10, -0.5, 'Smooth overlap\\npreserves context', \
                ha='center', color='green', weight='bold')\
        \
        # Formatting\
        for ax in [ax1, ax2]:\
            ax.set_xlim(-1, 21)\
            ax.set_ylim(-1, 2)\
            ax.set_aspect('equal')\
            ax.axis('off')\
        \
        plt.tight_layout()\
        return fig}