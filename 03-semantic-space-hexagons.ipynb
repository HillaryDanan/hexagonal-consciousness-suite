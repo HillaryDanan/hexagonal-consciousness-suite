{\rtf1\ansi\ansicpg1252\cocoartf2822
\cocoatextscaling0\cocoaplatform0{\fonttbl\f0\fswiss\fcharset0 Helvetica;}
{\colortbl;\red255\green255\blue255;}
{\*\expandedcolortbl;;}
\margl1440\margr1440\vieww11520\viewh8400\viewkind0
\pard\tx720\tx1440\tx2160\tx2880\tx3600\tx4320\tx5040\tx5760\tx6480\tx7200\tx7920\tx8640\pardirnatural\partightenfactor0

\f0\fs24 \cf0 # 03-semantic-space-hexagons.ipynb core implementation\
import numpy as np\
from sklearn.manifold import TSNE\
from scipy.spatial import Voronoi\
import plotly.graph_objects as go\
\
class HexagonalSemanticSpace:\
    """Maps word embeddings to hexagonal topology for better semantic relationships"""\
    \
    def __init__(self, embeddings_dim=300):\
        self.embeddings_dim = embeddings_dim\
        self.hex_coordinates = \{\}\
        self.semantic_distances = \{\}\
    \
    def create_semantic_hexagons(self, words, embeddings):\
        """Organizes words in hexagonal semantic space"""\
        # Project to 2D while preserving distances\
        tsne = TSNE(n_components=2, metric='cosine', perplexity=30)\
        coords_2d = tsne.fit_transform(embeddings)\
        \
        # Map to hexagonal grid using optimal packing\
        hex_coords = self._map_to_hexagonal_grid(coords_2d)\
        \
        # Create semantic neighborhoods\
        for i, word in enumerate(words):\
            self.hex_coordinates[word] = hex_coords[i]\
            # Find 6 nearest semantic neighbors\
            neighbors = self._find_hexagonal_neighbors(word, words, embeddings)\
            self.semantic_distances[word] = neighbors\
        \
        return hex_coords\
    \
    def _map_to_hexagonal_grid(self, coords_2d):\
        """Maps 2D coordinates to nearest hexagonal grid points"""\
        # Hexagonal grid spacing\
        hex_height = np.sqrt(3)\
        hex_width = 2\
        \
        hex_coords = []\
        for x, y in coords_2d:\
            # Find nearest hexagon center\
            row = round(y / (hex_height * 0.75))\
            if row % 2 == 0:\
                col = round(x / hex_width)\
            else:\
                col = round((x - hex_width/2) / hex_width)\
            \
            # Convert back to coordinates\
            if row % 2 == 0:\
                hex_x = col * hex_width\
            else:\
                hex_x = col * hex_width + hex_width/2\
            hex_y = row * hex_height * 0.75\
            \
            hex_coords.append((hex_x, hex_y))\
        \
        return np.array(hex_coords)\
    \
    def visualize_semantic_hexagons(self, words, title="Semantic Space in Hexagonal Topology"):\
        """Creates interactive visualization of semantic relationships"""\
        fig = go.Figure()\
        \
        # Add hexagonal cells\
        for word in words:\
            if word in self.hex_coordinates:\
                x, y = self.hex_coordinates[word]\
                # Create hexagon vertices\
                angles = np.linspace(0, 2*np.pi, 7)\
                hex_x = x + 0.5 * np.cos(angles)\
                hex_y = y + 0.5 * np.sin(angles)\
                \
                fig.add_trace(go.Scatter(\
                    x=hex_x, y=hex_y,\
                    mode='lines',\
                    line=dict(color='lightblue', width=2),\
                    fill='toself',\
                    fillcolor='rgba(135,206,235,0.3)',\
                    hoverinfo='skip',\
                    showlegend=False\
                ))\
                \
                # Add word label\
                fig.add_trace(go.Scatter(\
                    x=[x], y=[y],\
                    mode='text',\
                    text=[word],\
                    textposition='middle center',\
                    hovertemplate=f'<b>\{word\}</b><br>' +\
                                  'Semantic neighbors:<br>' +\
                                  '<br>'.join([f'- \{n[0]\} (dist: \{n[1]:.2f\})' \
                                             for n in self.semantic_distances.get(word, [])[:3]]),\
                    showlegend=False\
                ))\
        \
        # Add semantic connections\
        for word, neighbors in self.semantic_distances.items():\
            if word in self.hex_coordinates:\
                x1, y1 = self.hex_coordinates[word]\
                for neighbor, distance in neighbors[:6]:  # Top 6 for hexagonal\
                    if neighbor in self.hex_coordinates:\
                        x2, y2 = self.hex_coordinates[neighbor]\
                        # Connection strength based on semantic distance\
                        opacity = max(0.1, 1 - distance)\
                        fig.add_trace(go.Scatter(\
                            x=[x1, x2], y=[y1, y2],\
                            mode='lines',\
                            line=dict(color='gray', width=opacity*3),\
                            opacity=opacity,\
                            hoverinfo='skip',\
                            showlegend=False\
                        ))\
        \
        fig.update_layout(\
            title=title,\
            showlegend=False,\
            hovermode='closest',\
            xaxis=dict(showgrid=False, zeroline=False, showticklabels=False),\
            yaxis=dict(showgrid=False, zeroline=False, showticklabels=False),\
            plot_bgcolor='white',\
            width=1000,\
            height=800\
        )\
        \
        return fig}